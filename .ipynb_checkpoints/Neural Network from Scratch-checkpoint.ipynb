{
 "cells": [
  {
   "cell_type": "markdown",
   "metadata": {},
   "source": [
    "# Neural Network from Scratch\n",
    "\n",
    "Neural Networks is an essential component of Deep learning and in this notebook, we're trying to build one starting from zero.\n",
    "\n",
    "The main core of a neural network are the neurons composing them. A neuron is a piece of the brain that serves as an processing unit for information. In other words, it takes an input, process it, and produces an output, **much like a function does**.\n",
    "\n",
    "More precisely it takes a numerical input, and produces a numerical output."
   ]
  },
  {
   "cell_type": "code",
   "execution_count": 1,
   "metadata": {},
   "outputs": [
    {
     "name": "stdout",
     "output_type": "stream",
     "text": [
      "Input: 5 / Output: 41\n"
     ]
    }
   ],
   "source": [
    "def a_processor(x):\n",
    "    return x * 7 + 6\n",
    "\n",
    "print(\"Input:\", 5, \"/ Output:\", a_processor(5))"
   ]
  },
  {
   "cell_type": "markdown",
   "metadata": {},
   "source": [
    "The main aspect of the neuron is processing an input in a linear way. We enter a number $x$ and the output is a linear computation under the form $ax + b$. \n",
    "\n",
    "Now let's suppose, as a way to generalize the function, that each entry comes with its own multiplicator instead of 7 and 6, like so:"
   ]
  },
  {
   "cell_type": "code",
   "execution_count": 2,
   "metadata": {},
   "outputs": [
    {
     "name": "stdout",
     "output_type": "stream",
     "text": [
      "Input: 5 / Output: 39 \n",
      "\n",
      "Input: 5 / Output: 37 \n",
      "\n",
      "Input: 5 / Output: 2.66 \n",
      "\n"
     ]
    }
   ],
   "source": [
    "def artif_neuron(x,a,b):\n",
    "    return x * a + b\n",
    "\n",
    "print(\"Input:\", 5, \"/ Output:\", artif_neuron(5,6,9), \"\\n\")\n",
    "print(\"Input:\", 5, \"/ Output:\", artif_neuron(5,7,2), \"\\n\")\n",
    "print(\"Input:\", 5, \"/ Output:\", artif_neuron(5,0.56,-0.14), \"\\n\")"
   ]
  },
  {
   "cell_type": "markdown",
   "metadata": {},
   "source": [
    "The same input now gives different results. What's interesting to do is using this function to calculate concrete values, like converting the temperature under different units. In example, converting Fahrenheit to Kelvin degrees.\n",
    "\n",
    "The formula goes like this :\n",
    "\n",
    "$$\n",
    "T(K) = T(°F) \\times \\frac{5}{9} + 459.67 \\times \\frac{5}{9}\n",
    "$$\n",
    "\n",
    "According to our linear formula, it means $a =\\frac{5}{9}$ and $b = 459.67 \\times \\frac{5}{9}$. Passing in a value in Fahrenheit will give the result in Kelvin degrees.\n",
    "\n",
    "However, neurons work assuming you don't know the accurate parameters in advance, like in many real world problems. In order to predict the parameters, it must **learn from its errors**. You'll see what I mean by that shortly.\n",
    "\n",
    "For now let's assume $a=0.25$ and $b=100$. These values have been decided arbitrarily."
   ]
  },
  {
   "cell_type": "code",
   "execution_count": 3,
   "metadata": {},
   "outputs": [
    {
     "name": "stdout",
     "output_type": "stream",
     "text": [
      "T(K) = T(°F) *  0.56 + 255.37\n",
      "Input: 85\n",
      "Actual output: 121.25\n",
      "Expected output: 302.59444444444443\n",
      "Difference 181.34444444444443\n"
     ]
    }
   ],
   "source": [
    "a = 0.25\n",
    "b = 100\n",
    "\n",
    "real_a = 5/9\n",
    "real_b = 459.67 * 5/9\n",
    "\n",
    "#Print the real formula\n",
    "print(\"T(K) = T(°F) * \", round(real_a,2), \"+\", round(real_b,2))\n",
    "\n",
    "print(\"Input:\", 85)\n",
    "print(\"Actual output:\", artif_neuron(85,a,b))\n",
    "print(\"Expected output:\",artif_neuron(85,real_a,real_b))\n",
    "print(\"Difference\",abs(artif_neuron(85,a,b)-artif_neuron(85,real_a,real_b)))"
   ]
  },
  {
   "cell_type": "markdown",
   "metadata": {},
   "source": [
    "As you can see, the absolute difference between the actual and expected output, also called **error** is way too important for the result to be accurate. As such, we need to come up with a way to refine our estimations to diminish this value."
   ]
  },
  {
   "cell_type": "code",
   "execution_count": 4,
   "metadata": {},
   "outputs": [
    {
     "name": "stdout",
     "output_type": "stream",
     "text": [
      "Input: 85\n",
      "Actual output: 264.0\n",
      "Expected output: 302.59444444444443\n",
      "Difference 38.594444444444434\n"
     ]
    }
   ],
   "source": [
    "a=0.4\n",
    "b=230\n",
    "\n",
    "print(\"Input:\", 85)\n",
    "print(\"Actual output:\", artif_neuron(85,a,b))\n",
    "print(\"Expected output:\",artif_neuron(85,real_a,real_b))\n",
    "print(\"Difference\",abs(artif_neuron(85,a,b)-artif_neuron(85,real_a,real_b)))"
   ]
  },
  {
   "cell_type": "markdown",
   "metadata": {},
   "source": [
    "The difference is immediately much better. As you can expect, the closer you are to the result, the smaller the error will be. In an ANN there's actually a way to connect $a$, $b$, and this absolute error called $\\epsilon$. This relation in question helps **correcting** these parameters to get closer to the expected value.\n",
    "\n",
    "As a sidenote, we can compute several outputs from several inputs using the same $(a,b)$ combination. Each of these points form a line. $a$ is thus called **the slope** of that line and $b$ is called **the intercept**."
   ]
  },
  {
   "cell_type": "code",
   "execution_count": 5,
   "metadata": {},
   "outputs": [
    {
     "name": "stdout",
     "output_type": "stream",
     "text": [
      "X= [10, 23, 32, 46, 51, 68]\n",
      "Y= [234.0, 239.2, 242.8, 248.4, 250.4, 257.2]\n"
     ]
    }
   ],
   "source": [
    "inputs = [10, 23, 32, 46, 51, 68]\n",
    "outputs = [artif_neuron(i,a,b) for i in inputs]\n",
    "\n",
    "print(\"X=\",inputs)\n",
    "print(\"Y=\",outputs)"
   ]
  },
  {
   "cell_type": "markdown",
   "metadata": {},
   "source": [
    "The famous relation between the error and the parameters consist in trying to bring each parameter a little bit closer to the expectation. Suppose we're defining arbitrarily $a$ and $b$. We have to find a way for the algorithm to guess values that are close to the truth.\n",
    "\n",
    "1. Initiate $a$ and $b$.\n",
    "2. Run a loop in which we compute a value in Kelvin degrees and compute the error. We're updating $a$ and $b$ and compute a new output and a new value error. If the error is below a defined threshold, the result is then considered as accurate.\n",
    "3. Output the new $a$ and $b$, the associated error and the number of iterations.\n",
    "\n",
    "The operation in which we're trying to find the most suitable parameter is called **error minimization**. In this piece of code I'd actually advise people to play with the increase/decrease steps and the threshold to see your results."
   ]
  },
  {
   "cell_type": "code",
   "execution_count": 17,
   "metadata": {},
   "outputs": [
    {
     "name": "stdout",
     "output_type": "stream",
     "text": [
      "Slope: 0.6250000000000003\n",
      "Intercept: 250\n",
      "Error: 0.5305555555555657\n",
      "Number of iterations: 15\n"
     ]
    }
   ],
   "source": [
    "#Actual Kelvin value\n",
    "def fahrenheit_2_kelvin(T):\n",
    "    return 5/9 * T + 459.67 * 5/9\n",
    "\n",
    "def minimize_error(x,a,b):\n",
    "    counter = 0 #Sets the counter for number of iterations\n",
    "    threshold = 10 #Sets an arbitrary threshold to stop the loop\n",
    "    error = threshold + 1 #Set error on some arbitrary value\n",
    "    \n",
    "    #Being the loop and stop when error is udner threshold\n",
    "    while abs(error) > threshold:\n",
    "        #If the esimated temperature is lower, rise the parameters\n",
    "        #with some arbitrary step, decrease them otherwise\n",
    "        if fahrenheit_2_kelvin(x) > artif_neuron(x,a,b):\n",
    "            a += 0.025\n",
    "            b += 10\n",
    "        else:\n",
    "            a -= 0.025\n",
    "            b -= 10\n",
    "        y_expected = fahrenheit_2_kelvin(x)\n",
    "        y_actual = artif_neuron(x,a,b)\n",
    "        error = abs(y_expected-y_actual)\n",
    "        counter += 1\n",
    "        #Set this as precaution in case the algorithm diverges\n",
    "        if counter > 10000:\n",
    "            print(\"Error: diverging...\")\n",
    "            break\n",
    "    return a, b, error, counter\n",
    "\n",
    "a = 0.25\n",
    "b = 100\n",
    "\n",
    "new_a, new_b, e, n_iterations = minimize_error(85,a,b)\n",
    "print(\"Slope:\", new_a)\n",
    "print(\"Intercept:\", new_b)\n",
    "print(\"Error:\", e)\n",
    "print(\"Number of iterations:\", n_iterations)"
   ]
  },
  {
   "cell_type": "markdown",
   "metadata": {},
   "source": [
    "As you can see, the algorithm is sensitive to input values. If you set up an $a$ and $b$ too far from the truth, you're going to take longer to reach the desired output. You may change the variables to increase or decrease $a$ and $b$, but if you set them up too high you might never converge. And if you set them too low you might exceed the number of iterations. Watch out for your threshold also. The lower the threshold is, the more accurate your result might be."
   ]
  },
  {
   "cell_type": "markdown",
   "metadata": {},
   "source": [
    "Almost every problem in Deep Learning is a classification problem. A classificaiton problem consists in telling the model how to distinguish from different classes given a dataset. This is where the lines obtained with the neuron come in.\n",
    "\n",
    "A perfect illustration is the plot below, where we're distinguishing two types of iris -Setosa and Virginica- from their petal size. The goal of the neuron is to find a way to tell them apart."
   ]
  },
  {
   "cell_type": "code",
   "execution_count": 40,
   "metadata": {},
   "outputs": [
    {
     "data": {
      "text/plain": [
       "<matplotlib.legend.Legend at 0x1f94559e048>"
      ]
     },
     "execution_count": 40,
     "metadata": {},
     "output_type": "execute_result"
    },
    {
     "data": {
      "image/png": "[encoded data removed]",
      "text/plain": [
       "<Figure size 432x288 with 1 Axes>"
      ]
     },
     "metadata": {
      "needs_background": "light"
     },
     "output_type": "display_data"
    }
   ],
   "source": [
    "%matplotlib inline\n",
    "from sklearn.datasets import load_iris\n",
    "import pandas as pd\n",
    "import matplotlib.pyplot as plt\n",
    "\n",
    "data = load_iris()\n",
    "iris = pd.DataFrame(data=data.data, columns=data.feature_names)\n",
    "iris['target'] = data.target\n",
    "iris['target'] = iris.target.apply(lambda x: data.target_names[x])\n",
    "\n",
    "setosa_set = iris.loc[(iris.target.str.contains('setosa')),['petal length (cm)','petal width (cm)']]\n",
    "virginica_set = iris.loc[(iris.target.str.contains('virginica')),['petal length (cm)','petal width (cm)']]\n",
    "\n",
    "plt.scatter(setosa_set['petal length (cm)'], setosa_set['petal width (cm)'], label='setosa')\n",
    "plt.scatter(virginica_set['petal length (cm)'],virginica_set['petal width (cm)'], label='virginica')\n",
    "plt.xlabel('Petal length (cm)')\n",
    "plt.ylabel('Petal width (cm)')\n",
    "plt.title('Petal size comparison')\n",
    "plt.legend()"
   ]
  },
  {
   "cell_type": "markdown",
   "metadata": {},
   "source": [
    "The setosa species has shorter and smaller petals than then virginica one, up to the point we could divide this plot in half to tell them apart. The line obtained is called a **classifier**."
   ]
  },
  {
   "cell_type": "code",
   "execution_count": 42,
   "metadata": {},
   "outputs": [
    {
     "data": {
      "text/plain": [
       "<matplotlib.legend.Legend at 0x1f945d47c48>"
      ]
     },
     "execution_count": 42,
     "metadata": {},
     "output_type": "execute_result"
    },
    {
     "data": {
      "image/png": "[encoded data removed]",
      "text/plain": [
       "<Figure size 432x288 with 1 Axes>"
      ]
     },
     "metadata": {
      "needs_background": "light"
     },
     "output_type": "display_data"
    }
   ],
   "source": [
    "x = range(1,8)\n",
    "y = [artif_neuron(i,-2.5/7,2.5) for i in x]\n",
    "\n",
    "plt.scatter(setosa_set['petal length (cm)'], setosa_set['petal width (cm)'], label='setosa')\n",
    "plt.scatter(virginica_set['petal length (cm)'],virginica_set['petal width (cm)'], label='virginica')\n",
    "plt.plot(x,y,color='black',label='separating line')\n",
    "plt.xlabel('Petal length (cm)')\n",
    "plt.ylabel('Petal width (cm)')\n",
    "plt.title('Petal size comparison')\n",
    "plt.legend()"
   ]
  },
  {
   "cell_type": "markdown",
   "metadata": {},
   "source": [
    "In order to train a classifier, it follows the same rules than a dot, except with "
   ]
  }
 ],
 "metadata": {
  "kernelspec": {
   "display_name": "Python 3",
   "language": "python",
   "name": "python3"
  },
  "language_info": {
   "codemirror_mode": {
    "name": "ipython",
    "version": 3
   },
   "file_extension": ".py",
   "mimetype": "text/x-python",
   "name": "python",
   "nbconvert_exporter": "python",
   "pygments_lexer": "ipython3",
   "version": "3.7.7"
  }
 },
 "nbformat": 4,
 "nbformat_minor": 4
}
